{
 "cells": [
  {
   "cell_type": "code",
   "execution_count": 34,
   "id": "e94a71f9",
   "metadata": {},
   "outputs": [],
   "source": [
    "#imports\n",
    "import pandas as pd\n",
    "import json"
   ]
  },
  {
   "cell_type": "markdown",
   "id": "875e2bbd",
   "metadata": {},
   "source": [
    "### Use your API credentials to access the the Yelp api"
   ]
  },
  {
   "cell_type": "code",
   "execution_count": 2,
   "id": "c6ca26db",
   "metadata": {},
   "outputs": [
    {
     "data": {
      "text/plain": [
       "dict_keys(['client-id', 'api-key'])"
      ]
     },
     "execution_count": 2,
     "metadata": {},
     "output_type": "execute_result"
    }
   ],
   "source": [
    "#import yelp API credentials\n",
    "import json\n",
    "with open('/Users/thoma/.secret/yelp_api.json') as f:\n",
    "    login = json.load(f)\n",
    "login.keys()"
   ]
  },
  {
   "cell_type": "code",
   "execution_count": 3,
   "id": "2dd0a471",
   "metadata": {},
   "outputs": [
    {
     "data": {
      "text/plain": [
       "<yelpapi.yelpapi.YelpAPI at 0x2109b015dc0>"
      ]
     },
     "execution_count": 3,
     "metadata": {},
     "output_type": "execute_result"
    }
   ],
   "source": [
    "# import the YelpAPI Class\n",
    "from yelpapi import YelpAPI\n",
    "# Create an instance with your key\n",
    "yelp_api = YelpAPI(login['api-key'], timeout_s=5.0)\n",
    "yelp_api"
   ]
  },
  {
   "cell_type": "markdown",
   "id": "ac0ab4ef",
   "metadata": {},
   "source": [
    "### choose the location and search term (food), but it must return more than 20 results"
   ]
  },
  {
   "cell_type": "code",
   "execution_count": 25,
   "id": "ab136fff",
   "metadata": {},
   "outputs": [
    {
     "name": "stdout",
     "output_type": "stream",
     "text": [
      "<class 'dict'>\n"
     ]
    },
    {
     "data": {
      "text/plain": [
       "dict_keys(['businesses', 'total', 'region'])"
      ]
     },
     "execution_count": 25,
     "metadata": {},
     "output_type": "execute_result"
    }
   ],
   "source": [
    "# use our yelp_api variable's search_query method to perform our API call\n",
    "search_results = yelp_api.search_query(location='Seattle',\n",
    "                                       term='food')\n",
    "print(type(search_results))\n",
    "search_results.keys()"
   ]
  },
  {
   "cell_type": "code",
   "execution_count": 26,
   "id": "9bc9de9b",
   "metadata": {},
   "outputs": [
    {
     "data": {
      "text/html": [
       "<div>\n",
       "<style scoped>\n",
       "    .dataframe tbody tr th:only-of-type {\n",
       "        vertical-align: middle;\n",
       "    }\n",
       "\n",
       "    .dataframe tbody tr th {\n",
       "        vertical-align: top;\n",
       "    }\n",
       "\n",
       "    .dataframe thead th {\n",
       "        text-align: right;\n",
       "    }\n",
       "</style>\n",
       "<table border=\"1\" class=\"dataframe\">\n",
       "  <thead>\n",
       "    <tr style=\"text-align: right;\">\n",
       "      <th></th>\n",
       "      <th>id</th>\n",
       "      <th>alias</th>\n",
       "      <th>name</th>\n",
       "      <th>image_url</th>\n",
       "      <th>is_closed</th>\n",
       "      <th>url</th>\n",
       "      <th>review_count</th>\n",
       "      <th>categories</th>\n",
       "      <th>rating</th>\n",
       "      <th>coordinates</th>\n",
       "      <th>transactions</th>\n",
       "      <th>price</th>\n",
       "      <th>location</th>\n",
       "      <th>phone</th>\n",
       "      <th>display_phone</th>\n",
       "      <th>distance</th>\n",
       "    </tr>\n",
       "  </thead>\n",
       "  <tbody>\n",
       "    <tr>\n",
       "      <th>0</th>\n",
       "      <td>UzL8_jvtznfsFDprG-O1UA</td>\n",
       "      <td>biang-biang-noodles-seattle-2</td>\n",
       "      <td>Biang Biang Noodles</td>\n",
       "      <td>https://s3-media1.fl.yelpcdn.com/bphoto/JYa1Xr...</td>\n",
       "      <td>False</td>\n",
       "      <td>https://www.yelp.com/biz/biang-biang-noodles-s...</td>\n",
       "      <td>581</td>\n",
       "      <td>[{'alias': 'noodles', 'title': 'Noodles'}, {'a...</td>\n",
       "      <td>4.5</td>\n",
       "      <td>{'latitude': 47.613937, 'longitude': -122.324239}</td>\n",
       "      <td>[pickup, delivery]</td>\n",
       "      <td>$$</td>\n",
       "      <td>{'address1': '601 E Pike St', 'address2': 'Uni...</td>\n",
       "      <td>+12068098999</td>\n",
       "      <td>(206) 809-8999</td>\n",
       "      <td>1538.799926</td>\n",
       "    </tr>\n",
       "    <tr>\n",
       "      <th>1</th>\n",
       "      <td>jAgEaQUQMvGC2PsxYjBWOQ</td>\n",
       "      <td>katsu-ya-seattle-seattle</td>\n",
       "      <td>Katsu-ya Seattle</td>\n",
       "      <td>https://s3-media3.fl.yelpcdn.com/bphoto/TepKrk...</td>\n",
       "      <td>False</td>\n",
       "      <td>https://www.yelp.com/biz/katsu-ya-seattle-seat...</td>\n",
       "      <td>171</td>\n",
       "      <td>[{'alias': 'sushi', 'title': 'Sushi Bars'}, {'...</td>\n",
       "      <td>4.5</td>\n",
       "      <td>{'latitude': 47.619252, 'longitude': -122.338099}</td>\n",
       "      <td>[delivery]</td>\n",
       "      <td>$$</td>\n",
       "      <td>{'address1': '122 Westlake Ave N', 'address2':...</td>\n",
       "      <td>+12065800080</td>\n",
       "      <td>(206) 580-0080</td>\n",
       "      <td>708.865841</td>\n",
       "    </tr>\n",
       "  </tbody>\n",
       "</table>\n",
       "</div>"
      ],
      "text/plain": [
       "                       id                          alias                 name  \\\n",
       "0  UzL8_jvtznfsFDprG-O1UA  biang-biang-noodles-seattle-2  Biang Biang Noodles   \n",
       "1  jAgEaQUQMvGC2PsxYjBWOQ       katsu-ya-seattle-seattle     Katsu-ya Seattle   \n",
       "\n",
       "                                           image_url  is_closed  \\\n",
       "0  https://s3-media1.fl.yelpcdn.com/bphoto/JYa1Xr...      False   \n",
       "1  https://s3-media3.fl.yelpcdn.com/bphoto/TepKrk...      False   \n",
       "\n",
       "                                                 url  review_count  \\\n",
       "0  https://www.yelp.com/biz/biang-biang-noodles-s...           581   \n",
       "1  https://www.yelp.com/biz/katsu-ya-seattle-seat...           171   \n",
       "\n",
       "                                          categories  rating  \\\n",
       "0  [{'alias': 'noodles', 'title': 'Noodles'}, {'a...     4.5   \n",
       "1  [{'alias': 'sushi', 'title': 'Sushi Bars'}, {'...     4.5   \n",
       "\n",
       "                                         coordinates        transactions  \\\n",
       "0  {'latitude': 47.613937, 'longitude': -122.324239}  [pickup, delivery]   \n",
       "1  {'latitude': 47.619252, 'longitude': -122.338099}          [delivery]   \n",
       "\n",
       "  price                                           location         phone  \\\n",
       "0    $$  {'address1': '601 E Pike St', 'address2': 'Uni...  +12068098999   \n",
       "1    $$  {'address1': '122 Westlake Ave N', 'address2':...  +12065800080   \n",
       "\n",
       "    display_phone     distance  \n",
       "0  (206) 809-8999  1538.799926  \n",
       "1  (206) 580-0080   708.865841  "
      ]
     },
     "execution_count": 26,
     "metadata": {},
     "output_type": "execute_result"
    }
   ],
   "source": [
    "biz = pd.DataFrame(search_results['businesses'])\n",
    "biz.head(2)"
   ]
  },
  {
   "cell_type": "code",
   "execution_count": 27,
   "id": "e92ce2ec",
   "metadata": {},
   "outputs": [
    {
     "data": {
      "text/plain": [
       "10600"
      ]
     },
     "execution_count": 27,
     "metadata": {},
     "output_type": "execute_result"
    }
   ],
   "source": [
    "## total number of matching businesses\n",
    "search_results['total']"
   ]
  },
  {
   "cell_type": "code",
   "execution_count": 28,
   "id": "a6211a43",
   "metadata": {},
   "outputs": [
    {
     "data": {
      "text/plain": [
       "20"
      ]
     },
     "execution_count": 28,
     "metadata": {},
     "output_type": "execute_result"
    }
   ],
   "source": [
    "## how many businesses in our results\n",
    "len(search_results['businesses'])"
   ]
  },
  {
   "cell_type": "code",
   "execution_count": 29,
   "id": "92d84a94",
   "metadata": {},
   "outputs": [],
   "source": [
    "# add offset to our original api call\n",
    "search_results = yelp_api.search_query(location='Seattle',\n",
    "                                       term='food',\n",
    "                                       offset = 20)"
   ]
  },
  {
   "cell_type": "code",
   "execution_count": 30,
   "id": "597d6a5f",
   "metadata": {
    "scrolled": true
   },
   "outputs": [
    {
     "data": {
      "text/html": [
       "<div>\n",
       "<style scoped>\n",
       "    .dataframe tbody tr th:only-of-type {\n",
       "        vertical-align: middle;\n",
       "    }\n",
       "\n",
       "    .dataframe tbody tr th {\n",
       "        vertical-align: top;\n",
       "    }\n",
       "\n",
       "    .dataframe thead th {\n",
       "        text-align: right;\n",
       "    }\n",
       "</style>\n",
       "<table border=\"1\" class=\"dataframe\">\n",
       "  <thead>\n",
       "    <tr style=\"text-align: right;\">\n",
       "      <th></th>\n",
       "      <th>id</th>\n",
       "      <th>alias</th>\n",
       "      <th>name</th>\n",
       "      <th>image_url</th>\n",
       "      <th>is_closed</th>\n",
       "      <th>url</th>\n",
       "      <th>review_count</th>\n",
       "      <th>categories</th>\n",
       "      <th>rating</th>\n",
       "      <th>coordinates</th>\n",
       "      <th>transactions</th>\n",
       "      <th>price</th>\n",
       "      <th>location</th>\n",
       "      <th>phone</th>\n",
       "      <th>display_phone</th>\n",
       "      <th>distance</th>\n",
       "    </tr>\n",
       "  </thead>\n",
       "  <tbody>\n",
       "    <tr>\n",
       "      <th>0</th>\n",
       "      <td>vLkiMZl96vJvkMaXtUEr2g</td>\n",
       "      <td>skalka-seattle-4</td>\n",
       "      <td>Skalka</td>\n",
       "      <td>https://s3-media4.fl.yelpcdn.com/bphoto/ktq2hp...</td>\n",
       "      <td>False</td>\n",
       "      <td>https://www.yelp.com/biz/skalka-seattle-4?adju...</td>\n",
       "      <td>588</td>\n",
       "      <td>[{'alias': 'breakfast_brunch', 'title': 'Break...</td>\n",
       "      <td>4.5</td>\n",
       "      <td>{'latitude': 47.60491, 'longitude': -122.33769}</td>\n",
       "      <td>[delivery, pickup]</td>\n",
       "      <td>$$</td>\n",
       "      <td>{'address1': '77 Spring St', 'address2': '', '...</td>\n",
       "      <td>+12064088169</td>\n",
       "      <td>(206) 408-8169</td>\n",
       "      <td>2283.117625</td>\n",
       "    </tr>\n",
       "    <tr>\n",
       "      <th>1</th>\n",
       "      <td>nwrKWcWG1_g8nyUaaUwqlA</td>\n",
       "      <td>tacos-chukis-seattle-5</td>\n",
       "      <td>Tacos Chukis</td>\n",
       "      <td>https://s3-media4.fl.yelpcdn.com/bphoto/huHHXR...</td>\n",
       "      <td>False</td>\n",
       "      <td>https://www.yelp.com/biz/tacos-chukis-seattle-...</td>\n",
       "      <td>496</td>\n",
       "      <td>[{'alias': 'tacos', 'title': 'Tacos'}, {'alias...</td>\n",
       "      <td>4.5</td>\n",
       "      <td>{'latitude': 47.6270336126469, 'longitude': -1...</td>\n",
       "      <td>[delivery]</td>\n",
       "      <td>$</td>\n",
       "      <td>{'address1': '832 Dexter Ave N', 'address2': '...</td>\n",
       "      <td>+12065189025</td>\n",
       "      <td>(206) 518-9025</td>\n",
       "      <td>525.687693</td>\n",
       "    </tr>\n",
       "  </tbody>\n",
       "</table>\n",
       "</div>"
      ],
      "text/plain": [
       "                       id                   alias          name  \\\n",
       "0  vLkiMZl96vJvkMaXtUEr2g        skalka-seattle-4        Skalka   \n",
       "1  nwrKWcWG1_g8nyUaaUwqlA  tacos-chukis-seattle-5  Tacos Chukis   \n",
       "\n",
       "                                           image_url  is_closed  \\\n",
       "0  https://s3-media4.fl.yelpcdn.com/bphoto/ktq2hp...      False   \n",
       "1  https://s3-media4.fl.yelpcdn.com/bphoto/huHHXR...      False   \n",
       "\n",
       "                                                 url  review_count  \\\n",
       "0  https://www.yelp.com/biz/skalka-seattle-4?adju...           588   \n",
       "1  https://www.yelp.com/biz/tacos-chukis-seattle-...           496   \n",
       "\n",
       "                                          categories  rating  \\\n",
       "0  [{'alias': 'breakfast_brunch', 'title': 'Break...     4.5   \n",
       "1  [{'alias': 'tacos', 'title': 'Tacos'}, {'alias...     4.5   \n",
       "\n",
       "                                         coordinates        transactions  \\\n",
       "0    {'latitude': 47.60491, 'longitude': -122.33769}  [delivery, pickup]   \n",
       "1  {'latitude': 47.6270336126469, 'longitude': -1...          [delivery]   \n",
       "\n",
       "  price                                           location         phone  \\\n",
       "0    $$  {'address1': '77 Spring St', 'address2': '', '...  +12064088169   \n",
       "1     $  {'address1': '832 Dexter Ave N', 'address2': '...  +12065189025   \n",
       "\n",
       "    display_phone     distance  \n",
       "0  (206) 408-8169  2283.117625  \n",
       "1  (206) 518-9025   525.687693  "
      ]
     },
     "execution_count": 30,
     "metadata": {},
     "output_type": "execute_result"
    }
   ],
   "source": [
    "biz20 = pd.DataFrame(search_results['businesses'])\n",
    "biz20.head(2)"
   ]
  },
  {
   "cell_type": "markdown",
   "id": "6a10161a",
   "metadata": {},
   "source": [
    "### Concatenate the results into one data frame"
   ]
  },
  {
   "cell_type": "code",
   "execution_count": 33,
   "id": "9b4a2208",
   "metadata": {
    "scrolled": true
   },
   "outputs": [
    {
     "data": {
      "text/html": [
       "<div>\n",
       "<style scoped>\n",
       "    .dataframe tbody tr th:only-of-type {\n",
       "        vertical-align: middle;\n",
       "    }\n",
       "\n",
       "    .dataframe tbody tr th {\n",
       "        vertical-align: top;\n",
       "    }\n",
       "\n",
       "    .dataframe thead th {\n",
       "        text-align: right;\n",
       "    }\n",
       "</style>\n",
       "<table border=\"1\" class=\"dataframe\">\n",
       "  <thead>\n",
       "    <tr style=\"text-align: right;\">\n",
       "      <th></th>\n",
       "      <th>id</th>\n",
       "      <th>alias</th>\n",
       "      <th>name</th>\n",
       "      <th>image_url</th>\n",
       "      <th>is_closed</th>\n",
       "      <th>url</th>\n",
       "      <th>review_count</th>\n",
       "      <th>categories</th>\n",
       "      <th>rating</th>\n",
       "      <th>coordinates</th>\n",
       "      <th>transactions</th>\n",
       "      <th>price</th>\n",
       "      <th>location</th>\n",
       "      <th>phone</th>\n",
       "      <th>display_phone</th>\n",
       "      <th>distance</th>\n",
       "    </tr>\n",
       "  </thead>\n",
       "  <tbody>\n",
       "    <tr>\n",
       "      <th>0</th>\n",
       "      <td>UzL8_jvtznfsFDprG-O1UA</td>\n",
       "      <td>biang-biang-noodles-seattle-2</td>\n",
       "      <td>Biang Biang Noodles</td>\n",
       "      <td>https://s3-media1.fl.yelpcdn.com/bphoto/JYa1Xr...</td>\n",
       "      <td>False</td>\n",
       "      <td>https://www.yelp.com/biz/biang-biang-noodles-s...</td>\n",
       "      <td>581</td>\n",
       "      <td>[{'alias': 'noodles', 'title': 'Noodles'}, {'a...</td>\n",
       "      <td>4.5</td>\n",
       "      <td>{'latitude': 47.613937, 'longitude': -122.324239}</td>\n",
       "      <td>[pickup, delivery]</td>\n",
       "      <td>$$</td>\n",
       "      <td>{'address1': '601 E Pike St', 'address2': 'Uni...</td>\n",
       "      <td>+12068098999</td>\n",
       "      <td>(206) 809-8999</td>\n",
       "      <td>1538.799926</td>\n",
       "    </tr>\n",
       "    <tr>\n",
       "      <th>1</th>\n",
       "      <td>jAgEaQUQMvGC2PsxYjBWOQ</td>\n",
       "      <td>katsu-ya-seattle-seattle</td>\n",
       "      <td>Katsu-ya Seattle</td>\n",
       "      <td>https://s3-media3.fl.yelpcdn.com/bphoto/TepKrk...</td>\n",
       "      <td>False</td>\n",
       "      <td>https://www.yelp.com/biz/katsu-ya-seattle-seat...</td>\n",
       "      <td>171</td>\n",
       "      <td>[{'alias': 'sushi', 'title': 'Sushi Bars'}, {'...</td>\n",
       "      <td>4.5</td>\n",
       "      <td>{'latitude': 47.619252, 'longitude': -122.338099}</td>\n",
       "      <td>[delivery]</td>\n",
       "      <td>$$</td>\n",
       "      <td>{'address1': '122 Westlake Ave N', 'address2':...</td>\n",
       "      <td>+12065800080</td>\n",
       "      <td>(206) 580-0080</td>\n",
       "      <td>708.865841</td>\n",
       "    </tr>\n",
       "  </tbody>\n",
       "</table>\n",
       "</div>"
      ],
      "text/plain": [
       "                       id                          alias                 name  \\\n",
       "0  UzL8_jvtznfsFDprG-O1UA  biang-biang-noodles-seattle-2  Biang Biang Noodles   \n",
       "1  jAgEaQUQMvGC2PsxYjBWOQ       katsu-ya-seattle-seattle     Katsu-ya Seattle   \n",
       "\n",
       "                                           image_url  is_closed  \\\n",
       "0  https://s3-media1.fl.yelpcdn.com/bphoto/JYa1Xr...      False   \n",
       "1  https://s3-media3.fl.yelpcdn.com/bphoto/TepKrk...      False   \n",
       "\n",
       "                                                 url  review_count  \\\n",
       "0  https://www.yelp.com/biz/biang-biang-noodles-s...           581   \n",
       "1  https://www.yelp.com/biz/katsu-ya-seattle-seat...           171   \n",
       "\n",
       "                                          categories  rating  \\\n",
       "0  [{'alias': 'noodles', 'title': 'Noodles'}, {'a...     4.5   \n",
       "1  [{'alias': 'sushi', 'title': 'Sushi Bars'}, {'...     4.5   \n",
       "\n",
       "                                         coordinates        transactions  \\\n",
       "0  {'latitude': 47.613937, 'longitude': -122.324239}  [pickup, delivery]   \n",
       "1  {'latitude': 47.619252, 'longitude': -122.338099}          [delivery]   \n",
       "\n",
       "  price                                           location         phone  \\\n",
       "0    $$  {'address1': '601 E Pike St', 'address2': 'Uni...  +12068098999   \n",
       "1    $$  {'address1': '122 Westlake Ave N', 'address2':...  +12065800080   \n",
       "\n",
       "    display_phone     distance  \n",
       "0  (206) 809-8999  1538.799926  \n",
       "1  (206) 580-0080   708.865841  "
      ]
     },
     "metadata": {},
     "output_type": "display_data"
    },
    {
     "data": {
      "text/html": [
       "<div>\n",
       "<style scoped>\n",
       "    .dataframe tbody tr th:only-of-type {\n",
       "        vertical-align: middle;\n",
       "    }\n",
       "\n",
       "    .dataframe tbody tr th {\n",
       "        vertical-align: top;\n",
       "    }\n",
       "\n",
       "    .dataframe thead th {\n",
       "        text-align: right;\n",
       "    }\n",
       "</style>\n",
       "<table border=\"1\" class=\"dataframe\">\n",
       "  <thead>\n",
       "    <tr style=\"text-align: right;\">\n",
       "      <th></th>\n",
       "      <th>id</th>\n",
       "      <th>alias</th>\n",
       "      <th>name</th>\n",
       "      <th>image_url</th>\n",
       "      <th>is_closed</th>\n",
       "      <th>url</th>\n",
       "      <th>review_count</th>\n",
       "      <th>categories</th>\n",
       "      <th>rating</th>\n",
       "      <th>coordinates</th>\n",
       "      <th>transactions</th>\n",
       "      <th>price</th>\n",
       "      <th>location</th>\n",
       "      <th>phone</th>\n",
       "      <th>display_phone</th>\n",
       "      <th>distance</th>\n",
       "    </tr>\n",
       "  </thead>\n",
       "  <tbody>\n",
       "    <tr>\n",
       "      <th>38</th>\n",
       "      <td>m7hqwHm3y-afNBsrPfHwww</td>\n",
       "      <td>tanoor-seattle-3</td>\n",
       "      <td>Tanoor</td>\n",
       "      <td>https://s3-media4.fl.yelpcdn.com/bphoto/TBcvpS...</td>\n",
       "      <td>False</td>\n",
       "      <td>https://www.yelp.com/biz/tanoor-seattle-3?adju...</td>\n",
       "      <td>129</td>\n",
       "      <td>[{'alias': 'lebanese', 'title': 'Lebanese'}, {...</td>\n",
       "      <td>4.5</td>\n",
       "      <td>{'latitude': 47.626933, 'longitude': -122.342599}</td>\n",
       "      <td>[delivery]</td>\n",
       "      <td>$$</td>\n",
       "      <td>{'address1': '803 Dexter Ave N', 'address2': N...</td>\n",
       "      <td>+12064575272</td>\n",
       "      <td>(206) 457-5272</td>\n",
       "      <td>555.979011</td>\n",
       "    </tr>\n",
       "    <tr>\n",
       "      <th>39</th>\n",
       "      <td>DzLycxXa20wdlYeTcyc5-A</td>\n",
       "      <td>dough-zone-international-district-seattle</td>\n",
       "      <td>Dough Zone - International District</td>\n",
       "      <td>https://s3-media2.fl.yelpcdn.com/bphoto/MaIHL5...</td>\n",
       "      <td>False</td>\n",
       "      <td>https://www.yelp.com/biz/dough-zone-internatio...</td>\n",
       "      <td>1255</td>\n",
       "      <td>[{'alias': 'shanghainese', 'title': 'Shanghain...</td>\n",
       "      <td>4.0</td>\n",
       "      <td>{'latitude': 47.5982, 'longitude': -122.32747}</td>\n",
       "      <td>[delivery]</td>\n",
       "      <td>$$</td>\n",
       "      <td>{'address1': '504 5th Ave S', 'address2': 'Ste...</td>\n",
       "      <td>+12062859999</td>\n",
       "      <td>(206) 285-9999</td>\n",
       "      <td>3096.487219</td>\n",
       "    </tr>\n",
       "  </tbody>\n",
       "</table>\n",
       "</div>"
      ],
      "text/plain": [
       "                        id                                      alias  \\\n",
       "38  m7hqwHm3y-afNBsrPfHwww                           tanoor-seattle-3   \n",
       "39  DzLycxXa20wdlYeTcyc5-A  dough-zone-international-district-seattle   \n",
       "\n",
       "                                   name  \\\n",
       "38                               Tanoor   \n",
       "39  Dough Zone - International District   \n",
       "\n",
       "                                            image_url  is_closed  \\\n",
       "38  https://s3-media4.fl.yelpcdn.com/bphoto/TBcvpS...      False   \n",
       "39  https://s3-media2.fl.yelpcdn.com/bphoto/MaIHL5...      False   \n",
       "\n",
       "                                                  url  review_count  \\\n",
       "38  https://www.yelp.com/biz/tanoor-seattle-3?adju...           129   \n",
       "39  https://www.yelp.com/biz/dough-zone-internatio...          1255   \n",
       "\n",
       "                                           categories  rating  \\\n",
       "38  [{'alias': 'lebanese', 'title': 'Lebanese'}, {...     4.5   \n",
       "39  [{'alias': 'shanghainese', 'title': 'Shanghain...     4.0   \n",
       "\n",
       "                                          coordinates transactions price  \\\n",
       "38  {'latitude': 47.626933, 'longitude': -122.342599}   [delivery]    $$   \n",
       "39     {'latitude': 47.5982, 'longitude': -122.32747}   [delivery]    $$   \n",
       "\n",
       "                                             location         phone  \\\n",
       "38  {'address1': '803 Dexter Ave N', 'address2': N...  +12064575272   \n",
       "39  {'address1': '504 5th Ave S', 'address2': 'Ste...  +12062859999   \n",
       "\n",
       "     display_phone     distance  \n",
       "38  (206) 457-5272   555.979011  \n",
       "39  (206) 285-9999  3096.487219  "
      ]
     },
     "metadata": {},
     "output_type": "display_data"
    }
   ],
   "source": [
    "## concatenate the previous results and new results. \n",
    "businesses = pd.concat([biz, biz20],\n",
    "                      ignore_index=True)\n",
    "display(businesses.head(3), businesses.tail(3))"
   ]
  },
  {
   "cell_type": "code",
   "execution_count": 40,
   "id": "8ac430b1",
   "metadata": {},
   "outputs": [
    {
     "ename": "TypeError",
     "evalue": "Object of type DataFrame is not JSON serializable",
     "output_type": "error",
     "traceback": [
      "\u001b[1;31m---------------------------------------------------------------------------\u001b[0m",
      "\u001b[1;31mTypeError\u001b[0m                                 Traceback (most recent call last)",
      "Input \u001b[1;32mIn [40]\u001b[0m, in \u001b[0;36m<cell line: 1>\u001b[1;34m()\u001b[0m\n\u001b[0;32m      1\u001b[0m \u001b[38;5;28;01mwith\u001b[39;00m \u001b[38;5;28mopen\u001b[39m(\u001b[38;5;124m'\u001b[39m\u001b[38;5;124mexample_saved_data.json\u001b[39m\u001b[38;5;124m'\u001b[39m,\u001b[38;5;124m'\u001b[39m\u001b[38;5;124mw\u001b[39m\u001b[38;5;124m'\u001b[39m) \u001b[38;5;28;01mas\u001b[39;00m f:\n\u001b[1;32m----> 2\u001b[0m     \u001b[43mjson\u001b[49m\u001b[38;5;241;43m.\u001b[39;49m\u001b[43mdump\u001b[49m\u001b[43m(\u001b[49m\u001b[43mbusinesses\u001b[49m\u001b[43m,\u001b[49m\u001b[43m \u001b[49m\u001b[43mf\u001b[49m\u001b[43m)\u001b[49m\n",
      "File \u001b[1;32m~\\anaconda3\\envs\\dojo-env\\lib\\json\\__init__.py:179\u001b[0m, in \u001b[0;36mdump\u001b[1;34m(obj, fp, skipkeys, ensure_ascii, check_circular, allow_nan, cls, indent, separators, default, sort_keys, **kw)\u001b[0m\n\u001b[0;32m    173\u001b[0m     iterable \u001b[38;5;241m=\u001b[39m \u001b[38;5;28mcls\u001b[39m(skipkeys\u001b[38;5;241m=\u001b[39mskipkeys, ensure_ascii\u001b[38;5;241m=\u001b[39mensure_ascii,\n\u001b[0;32m    174\u001b[0m         check_circular\u001b[38;5;241m=\u001b[39mcheck_circular, allow_nan\u001b[38;5;241m=\u001b[39mallow_nan, indent\u001b[38;5;241m=\u001b[39mindent,\n\u001b[0;32m    175\u001b[0m         separators\u001b[38;5;241m=\u001b[39mseparators,\n\u001b[0;32m    176\u001b[0m         default\u001b[38;5;241m=\u001b[39mdefault, sort_keys\u001b[38;5;241m=\u001b[39msort_keys, \u001b[38;5;241m*\u001b[39m\u001b[38;5;241m*\u001b[39mkw)\u001b[38;5;241m.\u001b[39miterencode(obj)\n\u001b[0;32m    177\u001b[0m \u001b[38;5;66;03m# could accelerate with writelines in some versions of Python, at\u001b[39;00m\n\u001b[0;32m    178\u001b[0m \u001b[38;5;66;03m# a debuggability cost\u001b[39;00m\n\u001b[1;32m--> 179\u001b[0m \u001b[38;5;28;01mfor\u001b[39;00m chunk \u001b[38;5;129;01min\u001b[39;00m iterable:\n\u001b[0;32m    180\u001b[0m     fp\u001b[38;5;241m.\u001b[39mwrite(chunk)\n",
      "File \u001b[1;32m~\\anaconda3\\envs\\dojo-env\\lib\\json\\encoder.py:438\u001b[0m, in \u001b[0;36m_make_iterencode.<locals>._iterencode\u001b[1;34m(o, _current_indent_level)\u001b[0m\n\u001b[0;32m    436\u001b[0m         \u001b[38;5;28;01mraise\u001b[39;00m \u001b[38;5;167;01mValueError\u001b[39;00m(\u001b[38;5;124m\"\u001b[39m\u001b[38;5;124mCircular reference detected\u001b[39m\u001b[38;5;124m\"\u001b[39m)\n\u001b[0;32m    437\u001b[0m     markers[markerid] \u001b[38;5;241m=\u001b[39m o\n\u001b[1;32m--> 438\u001b[0m o \u001b[38;5;241m=\u001b[39m \u001b[43m_default\u001b[49m\u001b[43m(\u001b[49m\u001b[43mo\u001b[49m\u001b[43m)\u001b[49m\n\u001b[0;32m    439\u001b[0m \u001b[38;5;28;01myield from\u001b[39;00m _iterencode(o, _current_indent_level)\n\u001b[0;32m    440\u001b[0m \u001b[38;5;28;01mif\u001b[39;00m markers \u001b[38;5;129;01mis\u001b[39;00m \u001b[38;5;129;01mnot\u001b[39;00m \u001b[38;5;28;01mNone\u001b[39;00m:\n",
      "File \u001b[1;32m~\\anaconda3\\envs\\dojo-env\\lib\\json\\encoder.py:179\u001b[0m, in \u001b[0;36mJSONEncoder.default\u001b[1;34m(self, o)\u001b[0m\n\u001b[0;32m    160\u001b[0m \u001b[38;5;28;01mdef\u001b[39;00m \u001b[38;5;21mdefault\u001b[39m(\u001b[38;5;28mself\u001b[39m, o):\n\u001b[0;32m    161\u001b[0m     \u001b[38;5;124;03m\"\"\"Implement this method in a subclass such that it returns\u001b[39;00m\n\u001b[0;32m    162\u001b[0m \u001b[38;5;124;03m    a serializable object for ``o``, or calls the base implementation\u001b[39;00m\n\u001b[0;32m    163\u001b[0m \u001b[38;5;124;03m    (to raise a ``TypeError``).\u001b[39;00m\n\u001b[1;32m   (...)\u001b[0m\n\u001b[0;32m    177\u001b[0m \n\u001b[0;32m    178\u001b[0m \u001b[38;5;124;03m    \"\"\"\u001b[39;00m\n\u001b[1;32m--> 179\u001b[0m     \u001b[38;5;28;01mraise\u001b[39;00m \u001b[38;5;167;01mTypeError\u001b[39;00m(\u001b[38;5;124mf\u001b[39m\u001b[38;5;124m'\u001b[39m\u001b[38;5;124mObject of type \u001b[39m\u001b[38;5;132;01m{\u001b[39;00mo\u001b[38;5;241m.\u001b[39m\u001b[38;5;18m__class__\u001b[39m\u001b[38;5;241m.\u001b[39m\u001b[38;5;18m__name__\u001b[39m\u001b[38;5;132;01m}\u001b[39;00m\u001b[38;5;124m \u001b[39m\u001b[38;5;124m'\u001b[39m\n\u001b[0;32m    180\u001b[0m                     \u001b[38;5;124mf\u001b[39m\u001b[38;5;124m'\u001b[39m\u001b[38;5;124mis not JSON serializable\u001b[39m\u001b[38;5;124m'\u001b[39m)\n",
      "\u001b[1;31mTypeError\u001b[0m: Object of type DataFrame is not JSON serializable"
     ]
    }
   ],
   "source": [
    "with open('example_saved_data.json','w') as f:\n",
    "    json.dump(businesses, f)"
   ]
  }
 ],
 "metadata": {
  "kernelspec": {
   "display_name": "Python 3 (ipykernel)",
   "language": "python",
   "name": "python3"
  },
  "language_info": {
   "codemirror_mode": {
    "name": "ipython",
    "version": 3
   },
   "file_extension": ".py",
   "mimetype": "text/x-python",
   "name": "python",
   "nbconvert_exporter": "python",
   "pygments_lexer": "ipython3",
   "version": "3.8.13"
  },
  "toc": {
   "base_numbering": 1,
   "nav_menu": {},
   "number_sections": false,
   "sideBar": true,
   "skip_h1_title": false,
   "title_cell": "Table of Contents",
   "title_sidebar": "Contents",
   "toc_cell": false,
   "toc_position": {},
   "toc_section_display": true,
   "toc_window_display": false
  }
 },
 "nbformat": 4,
 "nbformat_minor": 5
}
